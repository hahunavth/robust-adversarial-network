{
 "cells": [
  {
   "cell_type": "markdown",
   "metadata": {},
   "source": [
    "# Result analysis\n",
    "- Do inference\n",
    "- Try to visualize the knowledge after learning from data"
   ]
  },
  {
   "cell_type": "code",
   "execution_count": 7,
   "metadata": {},
   "outputs": [],
   "source": [
    "from __future__ import absolute_import\n",
    "from __future__ import division\n",
    "from __future__ import print_function\n",
    "\n",
    "import os, sys\n",
    "import random\n",
    "import numpy as np\n",
    "import pprint\n",
    "from time import gmtime, strftime\n",
    "import glob\n",
    "import torch\n",
    "import torch.nn as nn\n",
    "# from torch.backends import cudnn\n",
    "\n",
    "from Logging import Logger\n",
    "# from config import cfg\n",
    "from model import MnistModel\n",
    "from evaluator import Evaluator\n",
    "from pgd_attack import LinfPGDAttack\n",
    "from utils import *"
   ]
  },
  {
   "cell_type": "code",
   "execution_count": 65,
   "metadata": {},
   "outputs": [],
   "source": [
    "from types import SimpleNamespace\n",
    "\n",
    "\n",
    "cfg = SimpleNamespace(\n",
    "    seed=0,\n",
    "    randomize=False,\n",
    "    log_dir='logs',\n",
    "    exp_name='debug',\n",
    "    no_log=False,\n",
    "    data_dir='data/mnist',\n",
    "    batch_size=200,\n",
    "    eval_batch_size=200,\n",
    "    eval_model=\"snapshots/debug/checkpoint_100.pth\",\n",
    "    epsilon=0.3,\n",
    "    k=40,\n",
    "    alpha=0.01,\n",
    "    random_start=False,\n",
    ")"
   ]
  },
  {
   "cell_type": "code",
   "execution_count": 28,
   "metadata": {},
   "outputs": [],
   "source": [
    "import random\n",
    "# cudnn.benchmark = True\n",
    "# os.environ[\"CUDA_VISIBLE_DEVICES\"] = cfg.gpus\n",
    "if not cfg.randomize:\n",
    "    # set fixed seed\n",
    "    random.seed(cfg.seed)\n",
    "    np.random.seed(cfg.seed)\n",
    "    torch.manual_seed(cfg.seed)\n",
    "    torch.cuda.manual_seed(cfg.seed)\n",
    "    \n",
    "log_path = os.path.join(cfg.log_dir, cfg.exp_name)\n",
    "mkdir_if_missing(log_path)\n",
    "\n",
    "# if not cfg.no_log:\n",
    "#     log_name = cfg.exp_name + \"_eval_log_\" + \\\n",
    "#             strftime(\"%Y-%m-%d_%H-%M-%S\", gmtime()) + '.txt'\n",
    "#     sys.stdout = Logger(os.path.join(log_path, log_name))"
   ]
  },
  {
   "cell_type": "code",
   "execution_count": 41,
   "metadata": {},
   "outputs": [],
   "source": [
    "print(\"Input Args: \")\n",
    "pprint.pprint(cfg)"
   ]
  },
  {
   "cell_type": "code",
   "execution_count": 42,
   "metadata": {},
   "outputs": [],
   "source": [
    "_, test_loader, num_class, img_size = get_data_loader(\n",
    "    data_dir=cfg.data_dir, \n",
    "    batch_size=cfg.batch_size, \n",
    "    test_batch_size=cfg.eval_batch_size, \n",
    "    num_workers=4\n",
    ")\n",
    "print(\"Num classes: \", num_class)\n",
    "print(\"Img size: \", img_size)\n",
    "print(\"Num test batches: \", len(test_loader))"
   ]
  },
  {
   "cell_type": "code",
   "execution_count": 44,
   "metadata": {},
   "outputs": [],
   "source": [
    "model = MnistModel()\n",
    "device = torch.device(\"cuda:0\" if torch.cuda.is_available() else \"cpu\")\n",
    "\n",
    "is_cuda = False\n",
    "if torch.cuda.device_count() > 1:\n",
    "    model = nn.DataParallel(model)\n",
    "if torch.cuda.is_available():\n",
    "    model = model.cuda()\n",
    "    is_cuda = True"
   ]
  },
  {
   "cell_type": "code",
   "execution_count": 46,
   "metadata": {},
   "outputs": [],
   "source": [
    "if cfg.eval_model is None:\n",
    "    print('evaluate model is not specified')\n",
    "    snapshots = []\n",
    "elif os.path.isdir(cfg.eval_model):\n",
    "    snapshots = glob.glob(os.path.join(cfg.eval_model, '*.pth'))\n",
    "    snapshots = sorted(snapshots, key=lambda x: \n",
    "        int(os.path.basename(x).split('_')[1].split('.')[0]))\n",
    "elif os.path.isfile(cfg.eval_model):\n",
    "    snapshots = [cfg.eval_model]\n",
    "else:\n",
    "    snapshots = []"
   ]
  },
  {
   "cell_type": "code",
   "execution_count": 71,
   "metadata": {},
   "outputs": [],
   "source": [
    "def load_model2(model, path):\n",
    "    if not os.path.isfile(path):\n",
    "        raise IOError('model: {} is non-exists'.format(path))\n",
    "    if hasattr(model, 'module'):\n",
    "        module = model.module\n",
    "    else:\n",
    "        module = model\n",
    "    checkpoint = torch.load(path, map_location=device)\n",
    "    if 'state_dict' in checkpoint:\n",
    "        state_dict = checkpoint['state_dict']\n",
    "    else:\n",
    "        state_dict = checkpoint\n",
    "    module.load_state_dict(state_dict, strict=False)\n",
    "    print('Params Loaded from: {}'.format(path))"
   ]
  },
  {
   "cell_type": "code",
   "execution_count": 66,
   "metadata": {},
   "outputs": [],
   "source": [
    "for snapshot in snapshots:\n",
    "    load_model_cpu(model, snapshot)\n",
    "    attack = LinfPGDAttack(model=model, epsilon=cfg.epsilon, k=cfg.k, \n",
    "                        alpha=cfg.alpha, random_start=cfg.random_start)\n",
    "    evaluator = Evaluator(model=model, attack=attack, is_cuda=is_cuda, verbose=False)\n",
    "    acc, adv_acc = evaluator.evaluate(test_loader)\n",
    "    print(\"natural     accuracy: {:.4f}\".format(acc))\n",
    "    print(\"adversarial accuracy: {:.4f}\".format(adv_acc))"
   ]
  },
  {
   "cell_type": "code",
   "execution_count": 67,
   "metadata": {},
   "outputs": [
    {
     "data": {
      "text/plain": [
       "0.9865"
      ]
     },
     "execution_count": 67,
     "metadata": {},
     "output_type": "execute_result"
    }
   ],
   "source": [
    "acc"
   ]
  },
  {
   "cell_type": "code",
   "execution_count": 68,
   "metadata": {},
   "outputs": [
    {
     "data": {
      "text/plain": [
       "0.9227"
      ]
     },
     "execution_count": 68,
     "metadata": {},
     "output_type": "execute_result"
    }
   ],
   "source": [
    "adv_acc"
   ]
  },
  {
   "cell_type": "code",
   "execution_count": 70,
   "metadata": {},
   "outputs": [
    {
     "ename": "NameError",
     "evalue": "name 'device' is not defined",
     "output_type": "error",
     "traceback": [
      "\u001b[0;31m---------------------------------------------------------------------------\u001b[0m",
      "\u001b[0;31mNameError\u001b[0m                                 Traceback (most recent call last)",
      "\u001b[1;32m/home/kryo/Desktop/RobustAdversarialNetwork/eval.ipynb Cell 13\u001b[0m line \u001b[0;36m1\n\u001b[0;32m----> <a href='vscode-notebook-cell:/home/kryo/Desktop/RobustAdversarialNetwork/eval.ipynb#X15sZmlsZQ%3D%3D?line=0'>1</a>\u001b[0m device\n",
      "\u001b[0;31mNameError\u001b[0m: name 'device' is not defined"
     ]
    }
   ],
   "source": [
    "device"
   ]
  }
 ],
 "metadata": {
  "kernelspec": {
   "display_name": "py310",
   "language": "python",
   "name": "python3"
  },
  "language_info": {
   "codemirror_mode": {
    "name": "ipython",
    "version": 3
   },
   "file_extension": ".py",
   "mimetype": "text/x-python",
   "name": "python",
   "nbconvert_exporter": "python",
   "pygments_lexer": "ipython3",
   "version": "3.10.13"
  }
 },
 "nbformat": 4,
 "nbformat_minor": 2
}
